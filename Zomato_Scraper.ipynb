{
 "cells": [
  {
   "cell_type": "code",
   "execution_count": 1,
   "id": "ea7d7238",
   "metadata": {},
   "outputs": [],
   "source": [
    "import requests\n",
    "from bs4 import BeautifulSoup\n",
    "import pandas as pd\n",
    "import re\n",
    "from selenium import webdriver\n",
    "import time\n",
    "from time import sleep\n",
    "from random import randint\n",
    "from selenium.webdriver.common.by import By"
   ]
  },
  {
   "cell_type": "code",
   "execution_count": 2,
   "id": "f89ef6eb",
   "metadata": {},
   "outputs": [],
   "source": [
    "headers = ({'User-Agent':'Mozilla/5.0 (Macintosh; Intel Mac OS X 11_5_2) AppleWebKit/605.1.15 (KHTML, like Gecko) Version/14.1.2 Safari/605.1.15'})"
   ]
  },
  {
   "cell_type": "code",
   "execution_count": null,
   "id": "df1b07ca",
   "metadata": {},
   "outputs": [],
   "source": [
    "chrome_options = webdriver.ChromeOptions()\n",
    "chrome_options.add_argument('--headless')\n",
    "chrome_options.add_argument('--no-sandbox')\n",
    "chrome_options.add_argument('--disable-dev-shm-usage')\n",
    "wd = webdriver.Chrome(options=chrome_options)\n",
    "\n",
    "url = 'https://www.zomato.com/'\n",
    "wd.get(url)"
   ]
  },
  {
   "cell_type": "code",
   "execution_count": null,
   "id": "7aada944",
   "metadata": {},
   "outputs": [],
   "source": [
    "login = wd.find_elements_by_xpath(\"//li[@class = 'sc-3o0n99-4 kAUthO']\")"
   ]
  },
  {
   "cell_type": "code",
   "execution_count": null,
   "id": "6476e20e",
   "metadata": {},
   "outputs": [],
   "source": [
    "button_login = login[1].click()"
   ]
  },
  {
   "cell_type": "code",
   "execution_count": null,
   "id": "d8d552aa",
   "metadata": {},
   "outputs": [],
   "source": [
    "enter_number = wd.find_element(By.CSS_SELECTOR, \"input[type='number']\").send_keys('ENTER_YOUR_PHONE_NUMBER')"
   ]
  },
  {
   "cell_type": "code",
   "execution_count": null,
   "id": "8b59d71b",
   "metadata": {},
   "outputs": [],
   "source": [
    "button_sendotp = wd.find_element(By.CSS_SELECTOR, \"button[class='sc-1kx5g6g-1 elxuhW sc-PLyBE lgOAyP']\").click()"
   ]
  },
  {
   "cell_type": "code",
   "execution_count": null,
   "id": "ae081566",
   "metadata": {},
   "outputs": [],
   "source": [
    "otp_boxes = wd.find_elements(By.CSS_SELECTOR, \"input[type='number']\") #find OTP boxes on the page\n",
    "len(otp_boxes)"
   ]
  },
  {
   "cell_type": "code",
   "execution_count": null,
   "id": "ed82ab9a",
   "metadata": {},
   "outputs": [],
   "source": [
    "type_otp = 737238 #type the OTP received on your phone\n",
    "sms = [int(x) for x in str(type_otp)]\n",
    "sms"
   ]
  },
  {
   "cell_type": "code",
   "execution_count": null,
   "id": "596676a3",
   "metadata": {},
   "outputs": [],
   "source": [
    "for i in range(len(otp_boxes)): #enter 6 digit OTP in the boxes\n",
    "    otp_boxes[i].send_keys(sms[i])"
   ]
  },
  {
   "cell_type": "code",
   "execution_count": null,
   "id": "d541037a",
   "metadata": {},
   "outputs": [],
   "source": [
    "button_dropdown = wd.find_element(By.CSS_SELECTOR, \"span[class='sc-jLrYHE idRgVB']\").click()"
   ]
  },
  {
   "cell_type": "code",
   "execution_count": null,
   "id": "18590911",
   "metadata": {},
   "outputs": [],
   "source": [
    "button_profile = wd.find_element(By.CSS_SELECTOR, \"div[class='sc-iNovjJ bzjKmO']\").click()"
   ]
  },
  {
   "cell_type": "code",
   "execution_count": null,
   "id": "73d18ecf",
   "metadata": {},
   "outputs": [],
   "source": [
    "order_history = wd.find_elements(By.CSS_SELECTOR, \"h2[class='sc-dln2kl-0 sc-gSvJLs gSyqER']\")"
   ]
  },
  {
   "cell_type": "code",
   "execution_count": null,
   "id": "3ca17688",
   "metadata": {},
   "outputs": [],
   "source": [
    "button_history = order_history[5].click()"
   ]
  },
  {
   "cell_type": "code",
   "execution_count": null,
   "id": "337f01fd",
   "metadata": {},
   "outputs": [],
   "source": [
    "rest = []\n",
    "deliv = []\n",
    "loc = []\n",
    "amt = []\n",
    "items = []\n",
    "date = []"
   ]
  },
  {
   "cell_type": "code",
   "execution_count": null,
   "id": "f12eb6c3",
   "metadata": {},
   "outputs": [],
   "source": []
  },
  {
   "cell_type": "code",
   "execution_count": null,
   "id": "11608937",
   "metadata": {},
   "outputs": [],
   "source": [
    "while True:\n",
    "    restaurants = wd.find_elements(By.CSS_SELECTOR, \"h4[class = 'sc-1hp8d8a-0 sc-dTsoBL eStAAL']\")\n",
    "\n",
    "    for i in range(len(restaurants)):\n",
    "        rest.append(restaurants[i].text)\n",
    "\n",
    "    deliv_status = wd.find_elements(By.CSS_SELECTOR, \"p[class='sc-1hez2tp-0 sc-fATqzn gTwRQC']\")\n",
    "\n",
    "    for i in range(len(deliv_status)):\n",
    "        deliv.append(deliv_status[i].text)\n",
    "\n",
    "    location = wd.find_elements(By.CSS_SELECTOR, \"div[class='sc-imapFV iHmPrG']\")\n",
    "\n",
    "    for i in range(len(location)):\n",
    "        loc.append(location[i].text)\n",
    "\n",
    "    cards = wd.find_elements(By.CSS_SELECTOR, \"p[class='sc-hPeUyl gCkrBS']\")\n",
    "\n",
    "    for i in range(0,len(cards),4):\n",
    "        amt.append(cards[i+1].text)\n",
    "        items.append(cards[i+2].text)\n",
    "        date.append(cards[i+3].text)\n",
    "    \n",
    "    sleep(randint(4,6))   \n",
    "    \n",
    "    try:\n",
    "        next_button = wd.find_element(By.CSS_SELECTOR, \"a[class='sc-dBfaGr sc-jgVwMx sc-AUpyg yAlEX']\").click()  \n",
    "    except:\n",
    "        break\n",
    "    \n",
    "    sleep(randint(4,6))\n",
    "\n",
    "    "
   ]
  },
  {
   "cell_type": "code",
   "execution_count": null,
   "id": "1ac167f3",
   "metadata": {},
   "outputs": [],
   "source": [
    "dict = {'restaurant': rest,\n",
    "       'delivered_status': deliv,\n",
    "        'location': loc,\n",
    "        'amount': amt,\n",
    "        'items':items,\n",
    "        'ordered_date':date\n",
    "    }"
   ]
  },
  {
   "cell_type": "code",
   "execution_count": null,
   "id": "33fcf908",
   "metadata": {},
   "outputs": [],
   "source": [
    "df = pd.DataFrame(dict)"
   ]
  },
  {
   "cell_type": "code",
   "execution_count": null,
   "id": "935a49af",
   "metadata": {},
   "outputs": [],
   "source": []
  },
  {
   "cell_type": "code",
   "execution_count": null,
   "id": "16bb9dce",
   "metadata": {},
   "outputs": [],
   "source": []
  },
  {
   "cell_type": "code",
   "execution_count": null,
   "id": "65c6e097",
   "metadata": {},
   "outputs": [],
   "source": []
  }
 ],
 "metadata": {
  "kernelspec": {
   "display_name": "Python 3.8.8 64-bit ('base': conda)",
   "language": "python",
   "name": "python388jvsc74a57bd0cd78fef2128015050713e82ca51c6520b11aee7c9ee8df750520bbbc7384cbaa"
  },
  "language_info": {
   "codemirror_mode": {
    "name": "ipython",
    "version": 3
   },
   "file_extension": ".py",
   "mimetype": "text/x-python",
   "name": "python",
   "nbconvert_exporter": "python",
   "pygments_lexer": "ipython3",
   "version": "3.9.7"
  }
 },
 "nbformat": 4,
 "nbformat_minor": 5
}
